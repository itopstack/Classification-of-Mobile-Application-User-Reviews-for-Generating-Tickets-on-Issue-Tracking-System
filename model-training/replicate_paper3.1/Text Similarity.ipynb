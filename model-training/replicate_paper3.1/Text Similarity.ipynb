{
 "cells": [
  {
   "cell_type": "code",
   "execution_count": 1,
   "metadata": {},
   "outputs": [],
   "source": [
    "from sklearn.feature_extraction.text import TfidfVectorizer"
   ]
  },
  {
   "cell_type": "code",
   "execution_count": 2,
   "metadata": {},
   "outputs": [
    {
     "data": {
      "text/plain": [
       "array([[1.        , 0.25082859, 0.39482963, 0.        ],\n",
       "       [0.25082859, 1.        , 0.22057609, 0.        ],\n",
       "       [0.39482963, 0.22057609, 1.        , 0.26264139],\n",
       "       [0.        , 0.        , 0.26264139, 1.        ]])"
      ]
     },
     "execution_count": 2,
     "metadata": {},
     "output_type": "execute_result"
    }
   ],
   "source": [
    "# TF-IDF\n",
    "\n",
    "# tfidf = TfidfVectorizer(sublinear_tf=True, norm='l2', encoding='utf-8', ngram_range=(1, 2), stop_words='english')\n",
    "tfidf = TfidfVectorizer()\n",
    "transformer = tfidf.fit_transform([\"I'd like an apple\",\n",
    "                            \"An apple a day keeps the doctor away\",\n",
    "                            \"Never compare an apple to an orange\",\n",
    "                            \"I prefer scikit-learn to Orange\"])\n",
    "\n",
    "(transformer * transformer.T).A"
   ]
  },
  {
   "cell_type": "code",
   "execution_count": 3,
   "metadata": {},
   "outputs": [],
   "source": [
    "import nltk, string"
   ]
  },
  {
   "cell_type": "code",
   "execution_count": 4,
   "metadata": {},
   "outputs": [
    {
     "name": "stdout",
     "output_type": "stream",
     "text": [
      "0.17077611319011649\n",
      "0.17077611319011649\n",
      "0.20199309249791833\n",
      "0.0\n"
     ]
    },
    {
     "name": "stderr",
     "output_type": "stream",
     "text": [
      "[nltk_data] Downloading package punkt to /Users/kittisakp/nltk_data...\n",
      "[nltk_data]   Package punkt is already up-to-date!\n",
      "/usr/local/lib/python3.7/site-packages/sklearn/feature_extraction/text.py:301: UserWarning: Your stop_words may be inconsistent with your preprocessing. Tokenizing the stop words generated tokens ['abov', 'afterward', 'alon', 'alreadi', 'alway', 'ani', 'anoth', 'anyon', 'anyth', 'anywher', 'becam', 'becaus', 'becom', 'befor', 'besid', 'cri', 'describ', 'dure', 'els', 'elsewher', 'empti', 'everi', 'everyon', 'everyth', 'everywher', 'fifti', 'formerli', 'forti', 'ha', 'henc', 'hereaft', 'herebi', 'hi', 'howev', 'hundr', 'inde', 'latterli', 'mani', 'meanwhil', 'moreov', 'mostli', 'nobodi', 'noon', 'noth', 'nowher', 'onc', 'onli', 'otherwis', 'ourselv', 'perhap', 'pleas', 'seriou', 'sever', 'sinc', 'sincer', 'sixti', 'someon', 'someth', 'sometim', 'somewher', 'themselv', 'thenc', 'thereaft', 'therebi', 'therefor', 'thi', 'thu', 'togeth', 'twelv', 'twenti', 'veri', 'wa', 'whatev', 'whenc', 'whenev', 'wherea', 'whereaft', 'wherebi', 'wherev', 'whi', 'yourselv'] not in stop_words.\n",
      "  'stop_words.' % sorted(inconsistent))\n"
     ]
    }
   ],
   "source": [
    "# TF-IDF with pre-processing\n",
    "\n",
    "nltk.download('punkt')\n",
    "\n",
    "stemmer = nltk.stem.porter.PorterStemmer()\n",
    "remove_punctuation_map = dict((ord(char), None) for char in string.punctuation)\n",
    "\n",
    "def stem_tokens(tokens):\n",
    "    return [stemmer.stem(item) for item in tokens]\n",
    "\n",
    "'''remove punctuation, lowercase, stem'''\n",
    "def normalize(text):\n",
    "    return stem_tokens(nltk.word_tokenize(text.lower().translate(remove_punctuation_map)))\n",
    "\n",
    "vectorizer = TfidfVectorizer(tokenizer=normalize, stop_words='english')\n",
    "\n",
    "def cosine_sim(text1, text2):\n",
    "    tfidf = vectorizer.fit_transform([text1, text2])\n",
    "    return ((tfidf * tfidf.T).A)[0, 1]\n",
    "\n",
    "print(cosine_sim(\"I'd like an apple\", 'An apple a day keeps the doctor away'))\n",
    "print(cosine_sim('An apple a day keeps the doctor away', 'Never compare an apple to an orange'))\n",
    "print(cosine_sim('Never compare an apple to an orange', 'I prefer scikit-learn to Orange'))\n",
    "print(cosine_sim('I prefer scikit-learn to Orange', \"I'd like an apple\"))"
   ]
  },
  {
   "cell_type": "code",
   "execution_count": 6,
   "metadata": {},
   "outputs": [
    {
     "name": "stdout",
     "output_type": "stream",
     "text": [
      "dog dog 1.0\n",
      "dog cat 0.8016855\n",
      "dog banana 0.2432765\n",
      "cat dog 0.8016855\n",
      "cat cat 1.0\n",
      "cat banana 0.28154364\n",
      "banana dog 0.2432765\n",
      "banana cat 0.28154364\n",
      "banana banana 1.0\n"
     ]
    }
   ],
   "source": [
    "# Spacy\n",
    "\n",
    "import spacy\n",
    "\n",
    "# nlp = spacy.load('en')\n",
    "# nlp = spacy.load('en_core_web_md')\n",
    "# nlp = spacy.load('en_core_web_lg')\n",
    "nlp = spacy.load('en_vectors_web_lg')\n",
    "\n",
    "# doc1 = nlp(\"I'd like an apple\")\n",
    "# doc2 = nlp('An apple a day keeps the doctor away')\n",
    "# doc3 = nlp('Never compare an apple to an orange')\n",
    "# doc4 = nlp('I prefer scikit-learn to Orange')\n",
    "\n",
    "# print(doc1.similarity(doc2))\n",
    "# print(doc2.similarity(doc3))\n",
    "# print(doc3.similarity(doc4))\n",
    "# print(doc4.similarity(doc1))\n",
    "\n",
    "tokens = nlp('dog cat banana')\n",
    "\n",
    "for token1 in tokens:\n",
    "    for token2 in tokens:\n",
    "        print(token1.text, token2.text, token1.similarity(token2))"
   ]
  }
 ],
 "metadata": {
  "kernelspec": {
   "display_name": "Python 3",
   "language": "python",
   "name": "python3"
  },
  "language_info": {
   "codemirror_mode": {
    "name": "ipython",
    "version": 3
   },
   "file_extension": ".py",
   "mimetype": "text/x-python",
   "name": "python",
   "nbconvert_exporter": "python",
   "pygments_lexer": "ipython3",
   "version": "3.7.3"
  }
 },
 "nbformat": 4,
 "nbformat_minor": 2
}
