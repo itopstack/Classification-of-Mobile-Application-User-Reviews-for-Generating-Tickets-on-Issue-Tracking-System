{
 "cells": [
  {
   "cell_type": "code",
   "execution_count": null,
   "metadata": {},
   "outputs": [],
   "source": [
    "import textblob"
   ]
  },
  {
   "cell_type": "code",
   "execution_count": null,
   "metadata": {},
   "outputs": [],
   "source": [
    "# function to check and get the part of speech tag count of a words in a given sentence\n",
    "def check_pos_tag(x, flag):\n",
    "    pos_family = {\n",
    "                    'noun': ['NN', 'NNS', 'NNP', 'NNPS'],\n",
    "                    'pron': ['PRP', 'PRP$', 'WP', 'WP$'],\n",
    "                    'verb': ['VB', 'VBD', 'VBG', 'VBN', 'VBP', 'VBZ'],\n",
    "                    'adj':  ['JJ', 'JJR', 'JJS'],\n",
    "                    'adv': ['RB', 'RBR', 'RBS', 'WRB']\n",
    "                }\n",
    "    \n",
    "    cnt = 0\n",
    "    try:\n",
    "        wiki = textblob.TextBlob(x)\n",
    "        for tup in wiki.tags:\n",
    "            ppo = list(tup)[1]\n",
    "            if ppo in pos_family[flag]:\n",
    "                cnt += 1\n",
    "    except:\n",
    "        pass\n",
    "    return cnt"
   ]
  },
  {
   "cell_type": "code",
   "execution_count": null,
   "metadata": {},
   "outputs": [],
   "source": [
    "sentence = \"this app serve purpose for perfectly except for mobile deposit wont work keep say cant find endorsement after call pnc multiple time about this still no fix\"\n",
    "\n",
    "# comment1 = \"This app serves its purpose for me perfectly except for the mobile deposit won't work. It keeps saying can't find endorsement. After calling PNC multiple times about this still no fix.\"\n",
    "# stopwords_removal1 = \"this app serves purpose for perfectly except for mobile deposit wont work keeps saying cant find endorsement after calling pnc multiple times about this still no fix\"\n",
    "# lemmatized_comment1 = \"this app serve it purpose for me perfectly except for the mobile deposit wont work it keep say cant find endorsement after call pnc multiple time about this still no fix\"\n",
    "# stopwords_removal_lemmatization1 = \"this app serve purpose for perfectly except for mobile deposit wont work keep say cant find endorsement after call pnc multiple time about this still no fix\""
   ]
  },
  {
   "cell_type": "code",
   "execution_count": null,
   "metadata": {},
   "outputs": [],
   "source": [
    "cnt_noun = check_pos_tag(sentence, 'noun')\n",
    "cnt_pron = check_pos_tag(sentence, 'pron')\n",
    "cnt_verb = check_pos_tag(sentence, 'verb')\n",
    "cnt_adj = check_pos_tag(sentence, 'adj')\n",
    "cnt_adv = check_pos_tag(sentence, 'adv')"
   ]
  },
  {
   "cell_type": "code",
   "execution_count": null,
   "metadata": {},
   "outputs": [],
   "source": [
    "print('noun: ' + str(cnt_noun))\n",
    "print('pronoun: ' + str(cnt_pron))\n",
    "print('verb: ' + str(cnt_verb))\n",
    "print('adjective: ' + str(cnt_adj))\n",
    "print('adverb: ' + str(cnt_adv))"
   ]
  }
 ],
 "metadata": {
  "kernelspec": {
   "display_name": "Python 3",
   "language": "python",
   "name": "python3"
  },
  "language_info": {
   "codemirror_mode": {
    "name": "ipython",
    "version": 3
   },
   "file_extension": ".py",
   "mimetype": "text/x-python",
   "name": "python",
   "nbconvert_exporter": "python",
   "pygments_lexer": "ipython3",
   "version": "3.7.3"
  }
 },
 "nbformat": 4,
 "nbformat_minor": 2
}
