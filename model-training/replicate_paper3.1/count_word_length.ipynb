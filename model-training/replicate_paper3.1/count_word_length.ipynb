{
 "cells": [
  {
   "cell_type": "code",
   "execution_count": 8,
   "metadata": {},
   "outputs": [
    {
     "name": "stdout",
     "output_type": "stream",
     "text": [
      "comment count: 31\n",
      "stopwords_removal count: 27\n",
      "lemmatized_comment count: 31\n",
      "stemmed count: 31\n",
      "stopwords_removal_nltk count: 20\n",
      "stopwords_removal_lemmatization count: 27\n",
      "\n",
      "[Splitted by NLTK] comment count: 36\n",
      "[Splitted by NLTK] stopwords_removal count: 27\n",
      "[Splitted by NLTK] lemmatized_comment count: 31\n",
      "[Splitted by NLTK] stemmed count: 31\n",
      "[Splitted by NLTK] stopwords_removal_nltk count: 20\n",
      "[Splitted by NLTK] stopwords_removal_lemmatization count: 27\n"
     ]
    }
   ],
   "source": [
    "import nltk\n",
    "\n",
    "comment = \"This app serves its purpose for me perfectly except for the mobile deposit won't work. It keeps saying can't find endorsement. After calling PNC multiple times about this still no fix.\"\n",
    "stopwords_removal = \"this app serves purpose for perfectly except for mobile deposit wont work keeps saying cant find endorsement after calling pnc multiple times about this still no fix\"\n",
    "lemmatized_comment = \"this app serve it purpose for me perfectly except for the mobile deposit wont work it keep say cant find endorsement after call pnc multiple time about this still no fix\"\n",
    "stemmed = \"thi ap serv it purpo for me perfect exceiv for the mobl deposit wont work it keep say cant find endorsement aft cal pnc multipl tim about thi stil no fix\"\n",
    "stopwords_removal_nltk = \"app serves purpose perfectly except mobile deposit wont work keeps saying cant find endorsement calling pnc multiple times still fix\"\n",
    "stopwords_removal_lemmatization = \"this app serve purpose for perfectly except for mobile deposit wont work keep say cant find endorsement after call pnc multiple time about this still no fix\"\n",
    "\n",
    "count_comment = len(comment.split())\n",
    "count_stopwords_removal = len(stopwords_removal.split())\n",
    "count_lemmatized_comment = len(lemmatized_comment.split())\n",
    "count_stemmed = len(stemmed.split())\n",
    "count_stopwords_removal_nltk = len(stopwords_removal_nltk.split())\n",
    "count_stopwords_removal_lemmatization = len(stopwords_removal_lemmatization.split())\n",
    "\n",
    "print(\"comment count: \" + str(count_comment))\n",
    "print(\"stopwords_removal count: \" + str(count_stopwords_removal))\n",
    "print(\"lemmatized_comment count: \" + str(count_lemmatized_comment))\n",
    "print(\"stemmed count: \" + str(count_stemmed))\n",
    "print(\"stopwords_removal_nltk count: \" + str(count_stopwords_removal_nltk))\n",
    "print(\"stopwords_removal_lemmatization count: \" + str(count_stopwords_removal_lemmatization))\n",
    "\n",
    "print()\n",
    "\n",
    "count_comment_nltk = len(nltk.word_tokenize(comment))\n",
    "count_stopwords_removal_nltk = len(nltk.word_tokenize(stopwords_removal))\n",
    "count_lemmatized_comment_nltk = len(nltk.word_tokenize(lemmatized_comment))\n",
    "count_stemmed_nltk = len(nltk.word_tokenize(stemmed))\n",
    "count_stopwords_removal_nltk_nltk = len(nltk.word_tokenize(stopwords_removal_nltk))\n",
    "count_stopwords_removal_lemmatization_nltk = len(nltk.word_tokenize(stopwords_removal_lemmatization))\n",
    "\n",
    "print(\"[Splitted by NLTK] comment count: \" + str(count_comment_nltk))\n",
    "print(\"[Splitted by NLTK] stopwords_removal count: \" + str(count_stopwords_removal_nltk))\n",
    "print(\"[Splitted by NLTK] lemmatized_comment count: \" + str(count_lemmatized_comment_nltk))\n",
    "print(\"[Splitted by NLTK] stemmed count: \" + str(count_stemmed_nltk))\n",
    "print(\"[Splitted by NLTK] stopwords_removal_nltk count: \" + str(count_stopwords_removal_nltk_nltk))\n",
    "print(\"[Splitted by NLTK] stopwords_removal_lemmatization count: \" + str(count_stopwords_removal_lemmatization_nltk))"
   ]
  }
 ],
 "metadata": {
  "kernelspec": {
   "display_name": "Python 3",
   "language": "python",
   "name": "python3"
  },
  "language_info": {
   "codemirror_mode": {
    "name": "ipython",
    "version": 3
   },
   "file_extension": ".py",
   "mimetype": "text/x-python",
   "name": "python",
   "nbconvert_exporter": "python",
   "pygments_lexer": "ipython3",
   "version": "3.7.3"
  }
 },
 "nbformat": 4,
 "nbformat_minor": 2
}
