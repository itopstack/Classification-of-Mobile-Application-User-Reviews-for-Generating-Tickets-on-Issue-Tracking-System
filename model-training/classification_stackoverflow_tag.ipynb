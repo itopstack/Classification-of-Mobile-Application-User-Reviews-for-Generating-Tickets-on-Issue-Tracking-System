{
 "cells": [
  {
   "cell_type": "code",
   "execution_count": 1,
   "metadata": {},
   "outputs": [],
   "source": [
    "import pandas as pd\n",
    "from sklearn.linear_model import LogisticRegression\n",
    "from sklearn.model_selection import train_test_split\n",
    "from sklearn.metrics import classification_report, accuracy_score\n",
    "from sklearn.feature_extraction.text import TfidfVectorizer\n",
    "import numpy as np\n",
    "from sklearn.feature_extraction.text import CountVectorizer\n",
    "from sklearn.feature_extraction.text import TfidfTransformer\n",
    "from sklearn.naive_bayes import MultinomialNB\n",
    "from sklearn.svm import LinearSVC\n",
    "import matplotlib.pyplot as plt\n",
    "from sklearn.linear_model import SGDClassifier"
   ]
  },
  {
   "cell_type": "code",
   "execution_count": 2,
   "metadata": {},
   "outputs": [],
   "source": [
    "df = pd.read_csv('data/stack-overflow-data.csv')"
   ]
  },
  {
   "cell_type": "code",
   "execution_count": 3,
   "metadata": {},
   "outputs": [
    {
     "name": "stdout",
     "output_type": "stream",
     "text": [
      "                                                post           tags\n",
      "0  what is causing this behavior  in our c# datet...             c#\n",
      "1  have dynamic html load as if it was in an ifra...        asp.net\n",
      "2  how to convert a float value in to min:sec  i ...    objective-c\n",
      "3  .net framework 4 redistributable  just wonderi...           .net\n",
      "4  trying to calculate and print the mean and its...         python\n",
      "5  how to give alias name for my website  i have ...        asp.net\n",
      "6  window.open() returns null in angularjs  it wo...      angularjs\n",
      "7  identifying server timeout quickly in iphone  ...         iphone\n",
      "8  unknown method key  error in rails 2.3.8 unit ...  ruby-on-rails\n",
      "9  from the include  how to show and hide the con...      angularjs\n",
      "10286120\n"
     ]
    }
   ],
   "source": [
    "df = df[pd.notnull(df['tags'])]\n",
    "print(df.head(10))\n",
    "print(df['post'].apply(lambda x: len(x.split(' '))).sum())"
   ]
  },
  {
   "cell_type": "code",
   "execution_count": 4,
   "metadata": {},
   "outputs": [
    {
     "data": {
      "image/png": "[encoded data removed]",
      "text/plain": [
       "<Figure size 720x288 with 1 Axes>"
      ]
     },
     "metadata": {},
     "output_type": "display_data"
    }
   ],
   "source": [
    "my_tags = ['java', 'html', 'asp.net', 'c#', 'ruby-on-rails', 'jquery', 'mysql', 'php', 'ios', 'javascript', 'python', 'c', 'css', 'android', 'iphone', 'sql', 'objective-c', 'c++', 'angularjs', '.net']\n",
    "plt.figure(figsize=(10,4))\n",
    "df.tags.value_counts().plot(kind='bar');"
   ]
  },
  {
   "cell_type": "code",
   "execution_count": 5,
   "metadata": {},
   "outputs": [
    {
     "name": "stdout",
     "output_type": "stream",
     "text": [
      "when we need interface c# <blockquote>    <strong>possible duplicate:</strong><br>   <a href= https://stackoverflow.com/questions/240152/why-would-i-want-to-use-interfaces >why would i want to use interfaces </a>   <a href= https://stackoverflow.com/questions/9451868/why-i-need-interface >why i need interface </a>    </blockquote>     i want to know where and when to use it     for example    <pre><code>interface idemo {  // function prototype  public void show(); }  // first class using the interface class myclass1 : idemo {  public void show()  {   // function body comes here   response.write( i m in myclass );  }  }  // second class using the interface class myclass2 : idemo {  public void show()   {   // function body comes here   response.write( i m in myclass2 );   response.write( so  what  );  } </code></pre>   these two classes has the same function name with different body. this can be even achieved without interface. then why we need an interface where and when to use it\n",
      "Tag: c#\n"
     ]
    }
   ],
   "source": [
    "def print_plot(index):\n",
    "    example = df[df.index == index][['post', 'tags']].values[0]\n",
    "    if len(example) > 0:\n",
    "        print(example[0])\n",
    "        print('Tag:', example[1])\n",
    "print_plot(10)"
   ]
  },
  {
   "cell_type": "code",
   "execution_count": 6,
   "metadata": {},
   "outputs": [
    {
     "name": "stdout",
     "output_type": "stream",
     "text": [
      "error executing source code extracted executable jar file executable jar file running perfectly double clicking extracted source code jar file trying execute eclipse displaying following errors project built since build path incomplete cannot find class file controlpoint fix build path try building project type controlpoint cannot resolved indirectly referenced required class files anyone please help solving errors\n",
      "Tag: java\n"
     ]
    }
   ],
   "source": [
    "import re\n",
    "from nltk.corpus import stopwords\n",
    "import nltk\n",
    "from bs4 import BeautifulSoup\n",
    "\n",
    "REPLACE_BY_SPACE_RE = re.compile('[/(){}\\[\\]\\|@,;]')\n",
    "BAD_SYMBOLS_RE = re.compile('[^0-9a-z #+_]')\n",
    "STOPWORDS = set(stopwords.words('english'))\n",
    "\n",
    "def clean_text(text):\n",
    "    \"\"\"\n",
    "        text: a string\n",
    "        \n",
    "        return: modified initial string\n",
    "    \"\"\"\n",
    "    text = BeautifulSoup(text, \"html.parser\").text # HTML decoding\n",
    "    text = text.lower() # lowercase text\n",
    "    text = REPLACE_BY_SPACE_RE.sub(' ', text) # replace REPLACE_BY_SPACE_RE symbols by space in text\n",
    "    text = BAD_SYMBOLS_RE.sub('', text) # delete symbols which are in BAD_SYMBOLS_RE from text\n",
    "    text = ' '.join(word for word in text.split() if word not in STOPWORDS) # delete stopwors from text\n",
    "    return text\n",
    "    \n",
    "df['post'] = df['post'].apply(clean_text)\n",
    "print_plot(100)"
   ]
  },
  {
   "cell_type": "code",
   "execution_count": 7,
   "metadata": {},
   "outputs": [
    {
     "data": {
      "text/plain": [
       "3424194"
      ]
     },
     "execution_count": 7,
     "metadata": {},
     "output_type": "execute_result"
    }
   ],
   "source": [
    "df['post'].apply(lambda x: len(x.split(' '))).sum()"
   ]
  },
  {
   "cell_type": "code",
   "execution_count": 8,
   "metadata": {},
   "outputs": [],
   "source": [
    "X = df.post\n",
    "y = df.tags\n",
    "X_train, X_test, y_train, y_test = train_test_split(X, y, test_size=0.3, random_state=42)"
   ]
  },
  {
   "cell_type": "code",
   "execution_count": 9,
   "metadata": {},
   "outputs": [
    {
     "data": {
      "image/png": "[encoded data removed]",
      "text/plain": [
       "<Figure size 576x432 with 1 Axes>"
      ]
     },
     "metadata": {},
     "output_type": "display_data"
    }
   ],
   "source": [
    "fig = plt.figure(figsize=(8,6))\n",
    "df.groupby('tags').post.count().plot.bar(ylim=0)\n",
    "plt.show()"
   ]
  },
  {
   "cell_type": "code",
   "execution_count": 10,
   "metadata": {},
   "outputs": [],
   "source": [
    "tfidf = TfidfVectorizer(sublinear_tf=True, min_df=5, norm='l2', encoding='latin-1', ngram_range=(1, 2), stop_words='english')"
   ]
  },
  {
   "cell_type": "code",
   "execution_count": 11,
   "metadata": {},
   "outputs": [
    {
     "data": {
      "text/plain": [
       "(40000, 71552)"
      ]
     },
     "execution_count": 11,
     "metadata": {},
     "output_type": "execute_result"
    }
   ],
   "source": [
    "features = tfidf.fit_transform(df.post).toarray()\n",
    "labels = df.tags\n",
    "features.shape"
   ]
  },
  {
   "cell_type": "code",
   "execution_count": 12,
   "metadata": {},
   "outputs": [],
   "source": [
    "count_vect = CountVectorizer()\n",
    "X_train_counts = count_vect.fit_transform(X_train)\n",
    "tfidf_transformer = TfidfTransformer()\n",
    "X_train_tfidf = tfidf_transformer.fit_transform(X_train_counts)"
   ]
  },
  {
   "cell_type": "code",
   "execution_count": 13,
   "metadata": {},
   "outputs": [
    {
     "name": "stdout",
     "output_type": "stream",
     "text": [
      "Naive Bayes:\n",
      "               precision    recall  f1-score   support\n",
      "\n",
      "           c#       0.64      0.61      0.63       613\n",
      "      asp.net       0.94      0.83      0.88       620\n",
      "  objective-c       0.87      0.91      0.89       587\n",
      "         .net       0.70      0.74      0.72       586\n",
      "       python       0.73      0.87      0.79       599\n",
      "    angularjs       0.64      0.50      0.56       589\n",
      "       iphone       0.78      0.72      0.75       594\n",
      "ruby-on-rails       0.71      0.89      0.79       610\n",
      "          ios       0.62      0.62      0.62       617\n",
      "            c       0.58      0.63      0.60       587\n",
      "          sql       0.71      0.50      0.59       611\n",
      "         java       0.76      0.80      0.78       594\n",
      "       jquery       0.84      0.60      0.70       619\n",
      "          css       0.62      0.85      0.72       574\n",
      "          c++       0.64      0.87      0.74       584\n",
      "          php       0.66      0.64      0.65       578\n",
      "      android       0.78      0.79      0.78       591\n",
      "        mysql       0.89      0.84      0.87       608\n",
      "   javascript       0.94      0.88      0.91       638\n",
      "         html       0.78      0.65      0.71       601\n",
      "\n",
      "  avg / total       0.74      0.74      0.74     12000\n",
      "\n",
      "accuracy 0.7376666666666667\n"
     ]
    }
   ],
   "source": [
    "# Naive Bayes\n",
    "print('Naive Bayes:')\n",
    "model = MultinomialNB()\n",
    "model.fit(X_train_tfidf, y_train)\n",
    "\n",
    "y_pred = model.predict(count_vect.transform(X_test))\n",
    "print(classification_report(y_test, y_pred, target_names=df['tags'].unique()))\n",
    "print('accuracy %s' % accuracy_score(y_pred, y_test))"
   ]
  },
  {
   "cell_type": "code",
   "execution_count": 14,
   "metadata": {},
   "outputs": [
    {
     "name": "stdout",
     "output_type": "stream",
     "text": [
      "Logictic Regression:\n",
      "               precision    recall  f1-score   support\n",
      "\n",
      "           c#       0.80      0.59      0.68       613\n",
      "      asp.net       0.94      0.84      0.89       620\n",
      "  objective-c       0.91      0.91      0.91       587\n",
      "         .net       0.79      0.71      0.75       586\n",
      "       python       0.76      0.87      0.81       599\n",
      "    angularjs       0.52      0.61      0.56       589\n",
      "       iphone       0.79      0.67      0.73       594\n",
      "ruby-on-rails       0.81      0.88      0.84       610\n",
      "          ios       0.67      0.72      0.69       617\n",
      "            c       0.73      0.57      0.64       587\n",
      "          sql       0.70      0.64      0.67       611\n",
      "         java       0.81      0.84      0.82       594\n",
      "       jquery       0.76      0.76      0.76       619\n",
      "          css       0.69      0.90      0.78       574\n",
      "          c++       0.79      0.87      0.83       584\n",
      "          php       0.68      0.64      0.66       578\n",
      "      android       0.81      0.84      0.82       591\n",
      "        mysql       0.89      0.89      0.89       608\n",
      "   javascript       0.91      0.90      0.91       638\n",
      "         html       0.82      0.83      0.83       601\n",
      "\n",
      "  avg / total       0.78      0.78      0.77     12000\n",
      "\n",
      "accuracy 0.7755833333333333\n"
     ]
    }
   ],
   "source": [
    "# Logictic Regression\n",
    "print('Logictic Regression:')\n",
    "model = LogisticRegression(random_state=42)\n",
    "model.fit(X_train_tfidf, y_train)\n",
    "\n",
    "y_pred = model.predict(count_vect.transform(X_test))\n",
    "print(classification_report(y_test, y_pred, target_names=df['tags'].unique()))\n",
    "print('accuracy %s' % accuracy_score(y_pred, y_test))"
   ]
  },
  {
   "cell_type": "code",
   "execution_count": 15,
   "metadata": {},
   "outputs": [
    {
     "name": "stdout",
     "output_type": "stream",
     "text": [
      "Linear SVM\n",
      "               precision    recall  f1-score   support\n",
      "\n",
      "           c#       0.80      0.61      0.69       613\n",
      "      asp.net       0.93      0.88      0.91       620\n",
      "  objective-c       0.96      0.94      0.95       587\n",
      "         .net       0.82      0.76      0.79       586\n",
      "       python       0.78      0.86      0.81       599\n",
      "    angularjs       0.55      0.64      0.59       589\n",
      "       iphone       0.82      0.71      0.76       594\n",
      "ruby-on-rails       0.84      0.84      0.84       610\n",
      "          ios       0.67      0.74      0.70       617\n",
      "            c       0.71      0.60      0.65       587\n",
      "          sql       0.67      0.66      0.67       611\n",
      "         java       0.80      0.84      0.82       594\n",
      "       jquery       0.77      0.78      0.78       619\n",
      "          css       0.74      0.91      0.81       574\n",
      "          c++       0.84      0.85      0.85       584\n",
      "          php       0.69      0.67      0.68       578\n",
      "      android       0.81      0.86      0.84       591\n",
      "        mysql       0.93      0.90      0.92       608\n",
      "   javascript       0.95      0.92      0.94       638\n",
      "         html       0.83      0.86      0.85       601\n",
      "\n",
      "  avg / total       0.80      0.79      0.79     12000\n",
      "\n",
      "accuracy 0.7929166666666667\n"
     ]
    }
   ],
   "source": [
    "#Linear SVM\n",
    "print('Linear SVM')\n",
    "model = LinearSVC()\n",
    "model.fit(X_train_tfidf, y_train)\n",
    "\n",
    "y_pred = model.predict(count_vect.transform(X_test))\n",
    "print(classification_report(y_test, y_pred, target_names=df['tags'].unique()))\n",
    "print('accuracy %s' % accuracy_score(y_pred, y_test))"
   ]
  },
  {
   "cell_type": "code",
   "execution_count": 16,
   "metadata": {},
   "outputs": [
    {
     "name": "stderr",
     "output_type": "stream",
     "text": [
      "/usr/local/Cellar/python/3.7.2_1/Frameworks/Python.framework/Versions/3.7/lib/python3.7/importlib/_bootstrap.py:219: RuntimeWarning: compiletime version 3.6 of module 'tensorflow.python.framework.fast_tensor_util' does not match runtime version 3.7\n",
      "  return f(*args, **kwds)\n",
      "Using TensorFlow backend.\n"
     ]
    }
   ],
   "source": [
    "import itertools\n",
    "import os\n",
    "import tensorflow as tf\n",
    "from sklearn.preprocessing import LabelBinarizer, LabelEncoder\n",
    "from tensorflow import keras\n",
    "from keras.models import Sequential\n",
    "from keras.layers import Dense, Activation, Dropout\n",
    "from keras.preprocessing import text, sequence\n",
    "from keras import utils"
   ]
  },
  {
   "cell_type": "code",
   "execution_count": 17,
   "metadata": {},
   "outputs": [],
   "source": [
    "train_size = int(len(df) * .7)\n",
    "train_posts = df['post'][:train_size]\n",
    "train_tags = df['tags'][:train_size]\n",
    "\n",
    "test_posts = df['post'][train_size:]\n",
    "test_tags = df['tags'][train_size:]\n",
    "\n",
    "max_words = 1000\n",
    "tokenize = text.Tokenizer(num_words=max_words, char_level=False)\n",
    "tokenize.fit_on_texts(train_posts) # only fit on train\n",
    "\n",
    "x_train = tokenize.texts_to_matrix(train_posts)\n",
    "x_test = tokenize.texts_to_matrix(test_posts)\n",
    "\n",
    "encoder = LabelEncoder()\n",
    "encoder.fit(train_tags)\n",
    "y_train = encoder.transform(train_tags)\n",
    "y_test = encoder.transform(test_tags)\n",
    "\n",
    "num_classes = np.max(y_train) + 1\n",
    "y_train = utils.to_categorical(y_train, num_classes)\n",
    "y_test = utils.to_categorical(y_test, num_classes)\n",
    "\n",
    "batch_size = 32\n",
    "epochs = 2"
   ]
  },
  {
   "cell_type": "code",
   "execution_count": 18,
   "metadata": {},
   "outputs": [
    {
     "name": "stdout",
     "output_type": "stream",
     "text": [
      "Train on 25200 samples, validate on 2800 samples\n",
      "Epoch 1/2\n",
      "25200/25200 [==============================] - 6s 248us/step - loss: 0.8948 - acc: 0.7494 - val_loss: 0.6891 - val_acc: 0.7861\n",
      "Epoch 2/2\n",
      "25200/25200 [==============================] - 5s 201us/step - loss: 0.4987 - acc: 0.8405 - val_loss: 0.6877 - val_acc: 0.7921\n"
     ]
    }
   ],
   "source": [
    "# Build the model\n",
    "model = Sequential()\n",
    "model.add(Dense(512, input_shape=(max_words,)))\n",
    "model.add(Activation('relu'))\n",
    "# model.add(Dropout(0.5))\n",
    "model.add(Dense(num_classes))\n",
    "model.add(Activation('softmax'))\n",
    "\n",
    "model.compile(loss='categorical_crossentropy',\n",
    "              optimizer='adam',\n",
    "              metrics=['accuracy'])\n",
    "              \n",
    "history = model.fit(x_train, y_train,\n",
    "                    batch_size=batch_size,\n",
    "                    epochs=epochs,\n",
    "                    verbose=1,\n",
    "                    validation_split=0.1)"
   ]
  },
  {
   "cell_type": "code",
   "execution_count": 19,
   "metadata": {},
   "outputs": [
    {
     "name": "stdout",
     "output_type": "stream",
     "text": [
      "12000/12000 [==============================] - 1s 50us/step\n",
      "BoW with Keras\n",
      "Test score: 0.6700788624286652\n",
      "Test accuracy: 0.783\n"
     ]
    }
   ],
   "source": [
    "score = model.evaluate(x_test, y_test,\n",
    "                       batch_size=batch_size, verbose=1)\n",
    "print('BoW with Keras')\n",
    "print('Test score:', score[0])\n",
    "print('Test accuracy:', score[1])"
   ]
  }
 ],
 "metadata": {
  "kernelspec": {
   "display_name": "Python 3",
   "language": "python",
   "name": "python3"
  },
  "language_info": {
   "codemirror_mode": {
    "name": "ipython",
    "version": 3
   },
   "file_extension": ".py",
   "mimetype": "text/x-python",
   "name": "python",
   "nbconvert_exporter": "python",
   "pygments_lexer": "ipython3",
   "version": "3.7.2"
  }
 },
 "nbformat": 4,
 "nbformat_minor": 2
}
