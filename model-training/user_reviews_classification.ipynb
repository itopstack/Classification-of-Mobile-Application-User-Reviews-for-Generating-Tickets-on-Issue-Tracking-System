{
 "cells": [
  {
   "cell_type": "code",
   "execution_count": 66,
   "metadata": {},
   "outputs": [],
   "source": [
    "import json\n",
    "import pandas as pd\n",
    "import numpy as np\n",
    "import matplotlib.pyplot as plt\n",
    "from sklearn.feature_extraction.text import TfidfVectorizer\n",
    "from sklearn.feature_selection import chi2\n",
    "from imblearn.over_sampling import SMOTE\n",
    "from imblearn.pipeline import Pipeline"
   ]
  },
  {
   "cell_type": "code",
   "execution_count": 32,
   "metadata": {},
   "outputs": [],
   "source": [
    "def import_json(path):\n",
    "    \"\"\"Import data in json format.\n",
    "    - parameters: \n",
    "        path => path of .json file\n",
    "    - return: dictionary from .json file\n",
    "    \"\"\"\n",
    "    with open(path) as data_file:    \n",
    "        return json.load(data_file)"
   ]
  },
  {
   "cell_type": "code",
   "execution_count": 33,
   "metadata": {},
   "outputs": [],
   "source": [
    "data_dict = import_json('data/all.json')"
   ]
  },
  {
   "cell_type": "code",
   "execution_count": 34,
   "metadata": {},
   "outputs": [],
   "source": [
    "def convert_dict_to_data_frame(dict, show_info=False):\n",
    "    \"\"\"Convert dictionary to data frame object.\n",
    "    - parameters: \n",
    "        dict => dictionary\n",
    "        show_info => variable for indicating show or hide data frame info (default=False)\n",
    "    - return: data frame object from dictionary\n",
    "    \"\"\"\n",
    "    df = pd.DataFrame.from_dict(dict, orient='columns')\n",
    "    if show_info:\n",
    "        df.info()\n",
    "    return df"
   ]
  },
  {
   "cell_type": "code",
   "execution_count": 43,
   "metadata": {},
   "outputs": [],
   "source": [
    "df = convert_dict_to_data_frame(data_dict)"
   ]
  },
  {
   "cell_type": "code",
   "execution_count": 40,
   "metadata": {},
   "outputs": [],
   "source": [
    "def prepare_category_id(data_frame, column):\n",
    "    \"\"\"Create new column 'category_id'\n",
    "    parameters:\n",
    "        data_frame => data frame object\n",
    "        column => column name that you want use as an input\n",
    "        return: new data frame object that include 'category_id' column\n",
    "    \"\"\"\n",
    "    data_frame['category_id'] = data_frame[column].factorize()[0]\n",
    "    return data_frame"
   ]
  },
  {
   "cell_type": "code",
   "execution_count": 45,
   "metadata": {},
   "outputs": [],
   "source": [
    "df = prepare_category_id(df, 'label')"
   ]
  },
  {
   "cell_type": "code",
   "execution_count": 47,
   "metadata": {},
   "outputs": [
    {
     "name": "stdout",
     "output_type": "stream",
     "text": [
      "{'Bug': 0, 'Rating': 1, 'Feature': 2, 'UserExperience': 3}\n"
     ]
    }
   ],
   "source": [
    "category_id_df = df[['label', 'category_id']].drop_duplicates().sort_values('category_id')\n",
    "category_to_id = dict(category_id_df.values)\n",
    "print(category_to_id)"
   ]
  },
  {
   "cell_type": "code",
   "execution_count": 50,
   "metadata": {},
   "outputs": [
    {
     "name": "stdout",
     "output_type": "stream",
     "text": [
      "{0: 'Bug', 1: 'Rating', 2: 'Feature', 3: 'UserExperience'}\n"
     ]
    }
   ],
   "source": [
    "id_to_category = dict(category_id_df[['category_id', 'label']].values)\n",
    "print(id_to_category)"
   ]
  },
  {
   "cell_type": "code",
   "execution_count": 53,
   "metadata": {},
   "outputs": [
    {
     "data": {
      "image/png": "[encoded data removed]",
      "text/plain": [
       "<Figure size 576x432 with 1 Axes>"
      ]
     },
     "metadata": {},
     "output_type": "display_data"
    }
   ],
   "source": [
    "fig = plt.figure(figsize=(8,6))\n",
    "df.groupby('label').comment.count().plot.bar(ylim=0)\n",
    "plt.show()"
   ]
  },
  {
   "cell_type": "code",
   "execution_count": 54,
   "metadata": {},
   "outputs": [
    {
     "name": "stdout",
     "output_type": "stream",
     "text": [
      "Rating            2462\n",
      "UserExperience     607\n",
      "Bug                370\n",
      "Feature            252\n",
      "Name: label, dtype: int64\n"
     ]
    }
   ],
   "source": [
    "print(pd.value_counts(pd.Series(df['label'])))"
   ]
  },
  {
   "cell_type": "code",
   "execution_count": 56,
   "metadata": {},
   "outputs": [],
   "source": [
    "tfidf = TfidfVectorizer(sublinear_tf=True, norm='l2', encoding='latin-1', ngram_range=(1, 2), stop_words='english')"
   ]
  },
  {
   "cell_type": "code",
   "execution_count": 59,
   "metadata": {},
   "outputs": [
    {
     "name": "stdout",
     "output_type": "stream",
     "text": [
      "(3691, 27402)\n",
      "(3691,)\n"
     ]
    }
   ],
   "source": [
    "features = tfidf.fit_transform(df.comment)\n",
    "labels = df.category_id\n",
    "print(features.shape)\n",
    "print(labels.shape)"
   ]
  },
  {
   "cell_type": "code",
   "execution_count": 62,
   "metadata": {},
   "outputs": [
    {
     "name": "stdout",
     "output_type": "stream",
     "text": [
      "# 'Bug':\n",
      "  . Most correlated unigrams:\n",
      ". open\n",
      ". fix\n",
      "  . Most correlated bigrams:\n",
      ". crashes time\n",
      ". won open\n",
      "# 'Feature':\n",
      "  . Most correlated unigrams:\n",
      ". increase\n",
      ". nexus\n",
      "  . Most correlated bigrams:\n",
      ". fix download\n",
      ". black screen\n",
      "# 'Rating':\n",
      "  . Most correlated unigrams:\n",
      ". fix\n",
      ". good\n",
      "  . Most correlated bigrams:\n",
      ". new update\n",
      ". good good\n",
      "# 'UserExperience':\n",
      "  . Most correlated unigrams:\n",
      ". easy\n",
      ". reviews\n",
      "  . Most correlated bigrams:\n",
      ". love ability\n",
      ". easy use\n"
     ]
    }
   ],
   "source": [
    "N = 2\n",
    "for label, category_id in sorted(category_to_id.items()):\n",
    "  features_chi2 = chi2(features, labels == category_id)\n",
    "  indices = np.argsort(features_chi2[0])\n",
    "  feature_names = np.array(tfidf.get_feature_names())[indices]\n",
    "  unigrams = [v for v in feature_names if len(v.split(' ')) == 1]\n",
    "  bigrams = [v for v in feature_names if len(v.split(' ')) == 2]\n",
    "  print(\"# '{}':\".format(label))\n",
    "  print(\"  . Most correlated unigrams:\\n. {}\".format('\\n. '.join(unigrams[-N:])))\n",
    "  print(\"  . Most correlated bigrams:\\n. {}\".format('\\n. '.join(bigrams[-N:])))"
   ]
  },
  {
   "cell_type": "code",
   "execution_count": 64,
   "metadata": {},
   "outputs": [],
   "source": [
    "def smote_data(features, labels, show_info=False):\n",
    "    \"\"\"Oversampling minor class by SMOTE technique.\n",
    "    parameters:\n",
    "        features => Any features that can be used to train model.\n",
    "        labels => target variable e.g. 0, 1, 2, 3, ...\n",
    "        show_info => Show resampled data if you want (default=False)\n",
    "    return: tuple of resampled features and resampled labels\n",
    "    \"\"\"\n",
    "    method = SMOTE(kind='regular')\n",
    "    X_resampled, y_resampled = method.fit_sample(features, labels)\n",
    "    \n",
    "    if show_info:\n",
    "        print(pd.value_counts(pd.Series(y_resampled)))\n",
    "    \n",
    "    return X_resampled, y_resampled"
   ]
  },
  {
   "cell_type": "code",
   "execution_count": 65,
   "metadata": {},
   "outputs": [
    {
     "name": "stdout",
     "output_type": "stream",
     "text": [
      "3    2462\n",
      "2    2462\n",
      "1    2462\n",
      "0    2462\n",
      "dtype: int64\n"
     ]
    }
   ],
   "source": [
    "X_resampled, y_resampled = smote_data(features, labels, show_info=True)"
   ]
  },
  {
   "cell_type": "code",
   "execution_count": null,
   "metadata": {},
   "outputs": [],
   "source": []
  }
 ],
 "metadata": {
  "kernelspec": {
   "display_name": "Python 3",
   "language": "python",
   "name": "python3"
  },
  "language_info": {
   "codemirror_mode": {
    "name": "ipython",
    "version": 3
   },
   "file_extension": ".py",
   "mimetype": "text/x-python",
   "name": "python",
   "nbconvert_exporter": "python",
   "pygments_lexer": "ipython3",
   "version": "3.7.2"
  }
 },
 "nbformat": 4,
 "nbformat_minor": 2
}
